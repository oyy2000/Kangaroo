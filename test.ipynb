{
 "cells": [
  {
   "cell_type": "code",
   "execution_count": 5,
   "metadata": {},
   "outputs": [
    {
     "name": "stdout",
     "output_type": "stream",
     "text": [
      "/home/yo46/anaconda3/envs/kangaroo/lib/python3.9/site-packages/huggingface_hub/file_download.py:1132: FutureWarning: `resume_download` is deprecated and will be removed in version 1.0.0. Downloads always resume when possible. If you want to force a new download, use `force_download=True`.\n",
      "  warnings.warn(\n",
      "Loading checkpoint shards: 100%|██████████████████| 2/2 [00:12<00:00,  6.34s/it]\n",
      "You are using the default legacy behaviour of the <class 'transformers.models.llama.tokenization_llama.LlamaTokenizer'>. If you see this, DO NOT PANIC! This is expected, and simply means that the `legacy` (previous) behavior will be used so nothing changes for you. If you want to use the new behaviour, set `legacy=False`. This should only be set if you understand what it means, and thouroughly read the reason why this was added as explained in https://github.com/huggingface/transformers/pull/24565\n",
      "Output to data/Kangaroo/vicuna-7b-v1.3-vanilla-float16-temp-0.0/0.jsonl\n",
      "Check model training state: False\n",
      "CUDA VISIBLE DEVICES: 0\n",
      "/home/yo46/anaconda3/envs/kangaroo/lib/python3.9/site-packages/transformers/generation/configuration_utils.py:362: UserWarning: `do_sample` is set to `False`. However, `temperature` is set to `0.0` -- this flag is only used in sample-based generation modes. You should set `do_sample=True` or unset `temperature`.\n",
      "  warnings.warn(\n",
      "Warmup done\n",
      "100%|███████████████████████████████████████| 480/480 [1:00:44<00:00,  7.59s/it]\n",
      "#Mean accepted tokens:  1.0\n",
      "Output to data/Kangaroo/vicuna-7b-v1.3-vanilla-float16-temp-0.0/1.jsonl\n",
      "Check model training state: False\n",
      "CUDA VISIBLE DEVICES: 0\n",
      "Warmup done\n",
      "100%|███████████████████████████████████████| 480/480 [1:00:09<00:00,  7.52s/it]\n",
      "#Mean accepted tokens:  1.0\n",
      "Output to data/Kangaroo/vicuna-7b-v1.3-vanilla-float16-temp-0.0/2.jsonl\n",
      "Check model training state: False\n",
      "CUDA VISIBLE DEVICES: 0\n",
      "Warmup done\n",
      "100%|███████████████████████████████████████| 480/480 [1:00:56<00:00,  7.62s/it]\n",
      "#Mean accepted tokens:  1.0\n"
     ]
    }
   ],
   "source": [
    "!CUDA_VISIBLE_DEVICES=0 python -m evaluation.inference_baseline --model-path \"lmsys/vicuna-7b-v1.3\" --model-id \"vicuna-7b-v1.3-vanilla-float16-temp-0.0\" --bench-name \"Kangaroo\" --temperature 0.0 --dtype \"float16\""
   ]
  },
  {
   "cell_type": "code",
   "execution_count": 4,
   "metadata": {},
   "outputs": [
    {
     "name": "stdout",
     "output_type": "stream",
     "text": [
      "Collecting protobuf\n",
      "  Downloading protobuf-5.27.1-cp38-abi3-manylinux2014_x86_64.whl.metadata (592 bytes)\n",
      "Downloading protobuf-5.27.1-cp38-abi3-manylinux2014_x86_64.whl (309 kB)\n",
      "\u001b[2K   \u001b[90m━━━━━━━━━━━━━━━━━━━━━━━━━━━━━━━━━━━━━━━━\u001b[0m \u001b[32m309.2/309.2 kB\u001b[0m \u001b[31m5.4 MB/s\u001b[0m eta \u001b[36m0:00:00\u001b[0ma \u001b[36m0:00:01\u001b[0m\n",
      "\u001b[?25hInstalling collected packages: protobuf\n",
      "Successfully installed protobuf-5.27.1\n",
      "Note: you may need to restart the kernel to use updated packages.\n"
     ]
    }
   ],
   "source": [
    "CUDA_VISIBLE_DEVICES=2 python -m evaluation.inference_baseline --model-path \"kangaroo-vicuna-7b-v1.3\" --model-id \"vicuna-7b-v1.3-vanilla-float16-temp-0\n",
    ".0\" --bench-name \"Kangaroo\" --temperature 0.0 --dtype \"float16\""
   ]
  },
  {
   "cell_type": "code",
   "execution_count": null,
   "metadata": {},
   "outputs": [],
   "source": []
  }
 ],
 "metadata": {
  "kernelspec": {
   "display_name": "kangaroo",
   "language": "python",
   "name": "python3"
  },
  "language_info": {
   "codemirror_mode": {
    "name": "ipython",
    "version": 3
   },
   "file_extension": ".py",
   "mimetype": "text/x-python",
   "name": "python",
   "nbconvert_exporter": "python",
   "pygments_lexer": "ipython3",
   "version": "3.9.19"
  }
 },
 "nbformat": 4,
 "nbformat_minor": 2
}
