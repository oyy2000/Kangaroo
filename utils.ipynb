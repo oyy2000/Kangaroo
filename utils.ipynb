{
 "cells": [
  {
   "cell_type": "code",
   "execution_count": 2,
   "metadata": {},
   "outputs": [],
   "source": [
    "import subprocess\n",
    "from itertools import product\n",
    "from multiprocessing import Pool, Queue\n",
    "import time\n",
    "import argparse\n",
    "import threading\n",
    "\n",
    "def parse_arguments():\n",
    "    parser = argparse.ArgumentParser(description=\"Task Executor for GPU-based Evaluation\")\n",
    "    parser.add_argument(\"--bench_type\", type=str, required=True, help=\"Benchmark type (e.g., MMLU or TrustLLM)\")\n",
    "    parser.add_argument(\"--model_type\", type=str, required=True, help=\"Model type (e.g., Kangaroo or Baseline)\")\n",
    "    parser.add_argument(\"--GPU_number\", type=int, required=True, help=\"Number of GPUs to use\")\n",
    "    parser.add_argument(\"--interval\", type=int, default=20, help=\"Interval between command executions in seconds\")\n",
    "    return parser.parse_args()\n",
    "\n",
    "def get_free_gpus():\n",
    "    result = subprocess.run(['nvidia-smi', '--query-gpu=memory.free', '--format=csv,nounits,noheader'], stdout=subprocess.PIPE)\n",
    "    gpu_memory = result.stdout.decode('utf-8').strip().split('\\n')\n",
    "    gpu_memory = [(i, int(mem)) for i, mem in enumerate(gpu_memory)]\n",
    "    sorted_gpus = sorted(gpu_memory, key=lambda x: x[1], reverse=True)\n",
    "    return [gpu[0] for gpu in sorted_gpus if gpu[1] > 16000]\n"
   ]
  },
  {
   "cell_type": "code",
   "execution_count": 3,
   "metadata": {},
   "outputs": [
    {
     "data": {
      "text/plain": [
       "[3, 5, 7]"
      ]
     },
     "execution_count": 3,
     "metadata": {},
     "output_type": "execute_result"
    }
   ],
   "source": [
    "get_free_gpus()"
   ]
  },
  {
   "cell_type": "code",
   "execution_count": null,
   "metadata": {},
   "outputs": [],
   "source": []
  }
 ],
 "metadata": {
  "kernelspec": {
   "display_name": "fl",
   "language": "python",
   "name": "python3"
  },
  "language_info": {
   "codemirror_mode": {
    "name": "ipython",
    "version": 3
   },
   "file_extension": ".py",
   "mimetype": "text/x-python",
   "name": "python",
   "nbconvert_exporter": "python",
   "pygments_lexer": "ipython3",
   "version": "3.9.19"
  }
 },
 "nbformat": 4,
 "nbformat_minor": 2
}
