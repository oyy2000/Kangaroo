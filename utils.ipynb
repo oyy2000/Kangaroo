{
 "cells": [
  {
   "cell_type": "code",
   "execution_count": 2,
   "metadata": {},
   "outputs": [],
   "source": [
    "import pandas as pd\n",
    "from io import BytesIO\n",
    "from openpyxl import Workbook\n",
    "\n",
    "# Given data\n",
    "data = {\n",
    "    \"midlayer_tokens\": {\n",
    "        \"0\": [\".\", \"\\u2581well\", \"oot\", \"\\u2581CURLOPT\", \"<0x0A>\", \"\\u2581in\", \".\", \"aged\", \"\\u2581Nature\", \"ny\", \"\\u2581in\", \"\\u2581Distribution\", \".\", \".\", \".\", \"<0x0A>\", \".\", \".\", \".\", \"\\u2581in\", \".\", \"\\u2223\", \".\", \".\", \".\", \".\", \"\\u2581in\", \".\", \".\", \".\", \".\", \",\", \".\", \"\\u2581in\", \"\\u2581Administr\", \"\\u2581ere\", \"\\u2581in\", \"\\u2581in\", \"\\u2581prem\", \"\\u2581Fichier\", \"\\u2581in\", \".\", \".\", \"\\u2581in\", \"iop\", \",\", \"\\u2581in\", \",\", \".\", \"\\u2581in\", \"\\u2581in\", \".\", \".\", \"ul\", \"lah\", \",\", \".\", \".\", \"\\u2581in\", \".\", \".\", \"mes\", \".\", \".\", \".\", \"ities\", \".\", \".\", \".\", \".\", \"\\u2581in\", \"\\u2581in\", \"al\", \"\\u2581in\", \".\", \".\", \"\\u2581in\", \"\\u2581of\", \".\", \".\", \".\", \".\", \".\", \"\\u2581to\", \".\", \"imate\", \",\", \".\", \".\", \".\", \"\\u2581kind\", \".\", \".\", \"hem\", \".\", \"\\u2581regard\", \".\", \"\\u2581in\", \"\\u2581prem\", \"\\u2581Fichier\", \".\", \"\\u2581as\", \".\", \".\", \".\", \".\", \"ant\", \"phan\", \"\\u2581direct\", \"\\u2581to\", \".\", \"ial\", \"\\u2581Kontrola\", \".\", \"\\u2581Area\", \"\\u2581in\", \".\", \".\", \"\\u2581in\", \".\", \"d\", \".\", \".\", \"\\u2581in\", \"\\u2581prem\", \"\\u2581false\", \".\", \".\", \".\", \".\", \".\", \".\", \"\\u2581own\", \"\\u2581(\", \"\\u2581in\", \"force\", \".\", \".\", \".\", \".\", \".\", \"\\u2581to\", \".\", \".\", \"yt\", \"\\u2581in\", \".\", \".\", \"\\u2581sides\", \"\\u2581stations\", \"\\u2581in\", \".\", \".\", \"\\u2581in\", \"Tag\", \".\", \".\", \"ul\", \"lah\", \",\", \"al\", \".\", \".\", \"ness\", \"\\u2581(\", \".\", \"\\u2581(\", \".\", \",\", \".\", \"ment\", \",\", \".\", \"\\u2581in\", \"\\u2581done\", \".\", \"\\u2581own\", \"uro\", \"\\u2581in\", \".\", \".\", \".\", \".\", \".\", \".\", \"\\u2581in\", \"\\u2581in\", \"block\", \"\\u2581in\", \"ively\", \"\\u2581regard\", \",\", \".\", \".\", \",\", \"\\u2581in\"],\n",
    "        \"1\": [\".\", \"\\u2581well\", \"oot\", \"inand\", \"<0x0A>\", \"\\u2581in\", \"wa\", \"aged\", \"\\u2581Ernst\", \"ny\", \"\\u2581in\", \"\\u2581in\", \".\", \".\", \".\", \"<0x0A>\", \"\\u2581in\", \".\", \".\", \"\\u2581in\", \".\", \",\", \".\", \",\", \".\", \"\\u2581in\", \"ed\", \"\\u2581in\", \"stand\", \".\", \"\\u2581in\", \"\\u2581(\", \".\", \"lect\", \"\\u2581Buen\", \"ed\", \"\\u2581in\", \"\\u2581in\", \"\\u2581in\", \"\\u2581(\", \"\\u2581in\", \".\", \".\", \"\\u2581in\", \"ern\", \"\\u2581Mark\", \"\\u2581in\", \"\\u2581in\", \".\", \"\\u2581in\", \"\\u2581in\", \",\", \"\\u2581and\", \"ul\", \"ously\", \"ext\", \".\", \".\", \"\\u2581in\", \".\", \".\", \"mes\", \".\", \".\", \"\\u2581in\", \"ities\", \"\\u2581Academy\", \".\", \".\", \".\", \"\\u2581in\", \"\\u2581in\", \"al\", \"<0x0A>\", \".\", \".\", \"\\u2581in\", \"\\u2581of\", \".\", \".\", \".\", \".\", \"\\u2581in\", \"\\u2581to\", \"do\", \"imate\", \",\", \"\\u2581in\", \".\", \"\\u2581(\", \"\\u2581kind\", \".\", \".\", \"hem\", \".\", \"\\u2581regard\", \"\\u2581in\", \"\\u2581in\", \".\", \"\\u2581(\", \".\", \"\\u2581as\", \"\\u2581in\", \".\", \".\", \"\\u2581in\", \"ant\", \"\\u2581in\", \"als\", \"\\u2581to\", \"\\u2581in\", \"ial\", \"ariat\", \"\\u2581(\", \"\\u2581(\", \"<0x0A>\", \".\", \".\", \".\", \"\\u2581to\", \"d\", \".\", \".\", \"\\u2581in\", \".\", \"\\u2581(\", \".\", \".\", \".\", \".\", \".\", \"\\u2581in\", \"\\u2581own\", \".\", \"\\u2581in\", \".\", \".\", \".\", \".\", \"\\u2581out\", \".\", \",\", \".\", \"nt\", \"yt\", \".\", \".\", \".\", \"\\u2581sides\", \"\\u2581Rap\", \"<0x0A>\", \".\", \".\", \"\\u2581in\", \",\", \".\", \"\\u2581and\", \"ul\", \"ously\", \"aye\", \"\\u2581in\", \"\\u2581in\", \"\\u2581to\", \".\", \",\", \".\", \"\\u2581(\", \".\", \"\\u2581weather\", \"\\u2581in\", \"ment\", \"ioned\", \".\", \"\\u2581in\", \"\\u2581to\", \"\\u2581in\", \"\\u2581own\", \".\", \",\", \".\", \".\", \".\", \"\\u2581su\", \".\", \".\", \"\\u2581in\", \"\\u2581of\", \"block\", \"\\u2581in\", \"ively\", \".\", \".\", \"\\u2581in\", \"esty\", \",\", \",\"]\n",
    "    }\n",
    "}\n",
    "# Convert the data to a DataFrame\n",
    "df = pd.DataFrame(data[\"midlayer_tokens\"])\n",
    "\n",
    "# Transpose the DataFrame to swap rows and columns\n",
    "df_transposed = df.T\n",
    "\n",
    "# Create a BytesIO object to write the Excel file to\n",
    "output = BytesIO()\n",
    "\n",
    "# Create a new workbook and add the DataFrame as a sheet\n",
    "writer = pd.ExcelWriter(output, engine='openpyxl')\n",
    "df_transposed.to_excel(writer, index=True)  # Set index=True to keep row labels\n",
    "writer.save()\n",
    "\n",
    "# Get the bytes of the Excel file\n",
    "excel_bytes = output.getvalue()\n",
    "\n",
    "# Save the Excel file to disk (optional)\n",
    "with open(\"output.xlsx\", \"wb\") as f:\n",
    "    f.write(excel_bytes)\n",
    "\n",
    "# Close the BytesIO object\n",
    "output.close()\n"
   ]
  },
  {
   "cell_type": "code",
   "execution_count": 2,
   "metadata": {},
   "outputs": [
    {
     "name": "stdout",
     "output_type": "stream",
     "text": [
      "Collecting openpyxl\n",
      "  Downloading openpyxl-3.1.3-py2.py3-none-any.whl (251 kB)\n",
      "\u001b[2K     \u001b[90m━━━━━━━━━━━━━━━━━━━━━━━━━━━━━━━━━━━━━━━\u001b[0m \u001b[32m251.3/251.3 kB\u001b[0m \u001b[31m4.9 MB/s\u001b[0m eta \u001b[36m0:00:00\u001b[0ma \u001b[36m0:00:01\u001b[0m\n",
      "\u001b[?25hCollecting et-xmlfile\n",
      "  Using cached et_xmlfile-1.1.0-py3-none-any.whl (4.7 kB)\n",
      "Installing collected packages: et-xmlfile, openpyxl\n",
      "Successfully installed et-xmlfile-1.1.0 openpyxl-3.1.3\n"
     ]
    }
   ],
   "source": [
    "!pip install openpyxl\n"
   ]
  },
  {
   "cell_type": "code",
   "execution_count": null,
   "metadata": {},
   "outputs": [],
   "source": []
  }
 ],
 "metadata": {
  "kernelspec": {
   "display_name": "fl",
   "language": "python",
   "name": "python3"
  },
  "language_info": {
   "codemirror_mode": {
    "name": "ipython",
    "version": 3
   },
   "file_extension": ".py",
   "mimetype": "text/x-python",
   "name": "python",
   "nbconvert_exporter": "python",
   "pygments_lexer": "ipython3",
   "version": "3.7.16"
  }
 },
 "nbformat": 4,
 "nbformat_minor": 2
}
