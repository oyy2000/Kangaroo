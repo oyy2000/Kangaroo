{
 "cells": [
  {
   "cell_type": "code",
   "execution_count": 2,
   "metadata": {},
   "outputs": [],
   "source": [
    "import subprocess\n",
    "from itertools import product\n",
    "from multiprocessing import Pool, Queue\n",
    "import time\n",
    "import argparse\n",
    "import threading\n",
    "\n",
    "def parse_arguments():\n",
    "    parser = argparse.ArgumentParser(description=\"Task Executor for GPU-based Evaluation\")\n",
    "    parser.add_argument(\"--bench_type\", type=str, required=True, help=\"Benchmark type (e.g., MMLU or TrustLLM)\")\n",
    "    parser.add_argument(\"--model_type\", type=str, required=True, help=\"Model type (e.g., Kangaroo or Baseline)\")\n",
    "    parser.add_argument(\"--GPU_number\", type=int, required=True, help=\"Number of GPUs to use\")\n",
    "    parser.add_argument(\"--interval\", type=int, default=20, help=\"Interval between command executions in seconds\")\n",
    "    return parser.parse_args()\n",
    "\n",
    "def get_free_gpus():\n",
    "    result = subprocess.run(['nvidia-smi', '--query-gpu=memory.free', '--format=csv,nounits,noheader'], stdout=subprocess.PIPE)\n",
    "    gpu_memory = result.stdout.decode('utf-8').strip().split('\\n')\n",
    "    gpu_memory = [(i, int(mem)) for i, mem in enumerate(gpu_memory)]\n",
    "    sorted_gpus = sorted(gpu_memory, key=lambda x: x[1], reverse=True)\n",
    "    return [gpu[0] for gpu in sorted_gpus if gpu[1] > 16000]\n"
   ]
  },
  {
   "cell_type": "code",
   "execution_count": 3,
   "metadata": {},
   "outputs": [
    {
     "data": {
      "text/plain": [
       "[3, 5, 7]"
      ]
     },
     "execution_count": 3,
     "metadata": {},
     "output_type": "execute_result"
    }
   ],
   "source": [
    "get_free_gpus()"
   ]
  },
  {
   "cell_type": "code",
   "execution_count": 15,
   "metadata": {},
   "outputs": [
    {
     "name": "stdout",
     "output_type": "stream",
     "text": [
      "baseline: Title: \"Hawaiian Adventures: Discovering the Islands' Rich Culture and Natural Wonders\" Introduction: Hawaii, the tropical paradise, has always been a dream destination for travelers around the world. With its lush landscapes, pristine beaches, and rich cultural heritage, the Aloha State offers an unforgettable experience. Recently, I embarked on a journey to explore the islands and immerse myself in their unique culture. In this blog post, I'll be sharing my adventures and must-see attractions that made my trip to Hawaii an unforgettable experience. Day 1: Arrival in Honolulu Upon arriving in Honolulu, the capital city of Hawaii, I was greeted by the warm sun and the sound of the waves crashing against the shore. After checking into my hotel, I headed straight to Waikiki Beach, one of the most famous beaches in the world. The sun was setting, and the sky was painted in shades of orange and pink, creating a picturesque scene. I spent the evening strolling along the beach, taking in the Title: \"Hawaiian Adventures: Discovering the Islands' Rich Culture and Natural Wonders\" Introduction: Hawaii, the tropical paradise, has always been a dream destination for travelers around the world. With its lush landscapes, pristine beaches, and rich cultural heritage, the Aloha State offers an unforgettable experience. Recently, I embarked on a journey to explore the islands and immerse myself in their unique \u001b[34mculture.\u001b[0m In this blog post, I'll be sharing my adventures and must-see attractions that made my trip \u001b[34mto\u001b[0m \u001b[34mHawaii\u001b[0m \u001b[34man\u001b[0m \u001b[34munforgettable\u001b[0m \u001b[34mexperience.\u001b[0m Day 1: Arrival in \u001b[34mHonolulu\u001b[0m \u001b[34mUpon\u001b[0m \u001b[34marriving\u001b[0m in Honolulu, the capital city of \u001b[34mHawaii,\u001b[0m I was greeted by the warm sun and the \u001b[34msound\u001b[0m of the \u001b[34mwaves\u001b[0m \u001b[34mcrashing\u001b[0m \u001b[34magainst\u001b[0m the \u001b[34mshore.\u001b[0m \u001b[34mAfter\u001b[0m \u001b[34mchecking\u001b[0m \u001b[34minto\u001b[0m \u001b[34mmy\u001b[0m \u001b[34mhotel,\u001b[0m I headed \u001b[34mstraight\u001b[0m to \u001b[34mWaikiki\u001b[0m \u001b[34mBeach,\u001b[0m \u001b[34mone\u001b[0m \u001b[34mof\u001b[0m \u001b[34mthe\u001b[0m \u001b[34mmost\u001b[0m \u001b[34mfamous\u001b[0m \u001b[34mbeaches\u001b[0m \u001b[34min\u001b[0m \u001b[34mthe\u001b[0m \u001b[34mworld.\u001b[0m \u001b[34mThe\u001b[0m \u001b[34msun\u001b[0m \u001b[34mwas\u001b[0m \u001b[34msetting,\u001b[0m \u001b[34mand\u001b[0m \u001b[34mthe\u001b[0m \u001b[34msky\u001b[0m \u001b[34mwas\u001b[0m \u001b[34mpainted\u001b[0m \u001b[34min\u001b[0m \u001b[34mshades\u001b[0m \u001b[34mof\u001b[0m \u001b[34morange\u001b[0m \u001b[34mand\u001b[0m \u001b[34mpink,\u001b[0m \u001b[34mcreating\u001b[0m a \u001b[34mpicturesque\u001b[0m \u001b[34mscene.\u001b[0m \u001b[34mI\u001b[0m \u001b[34mspent\u001b[0m \u001b[34mthe\u001b[0m \u001b[34mevening\u001b[0m \u001b[34mstrolling\u001b[0m \u001b[34malong\u001b[0m \u001b[34mthe\u001b[0m \u001b[34mbeach,\u001b[0m \u001b[34mtaking\u001b[0m \u001b[34min\u001b[0m \u001b[34mthe\u001b[0m\n",
      "medusa  : Title: \"Hawaiian Adventures: Discovering the Islands' Rich Culture and Natural Wonders\" Introduction: Hawaii, the tropical paradise, has always been a dream destination for travelers around the world. With its lush landscapes, pristine beaches, and rich cultural heritage, the Aloha State offers an unforgettable experience. Recently, I embarked on a journey to explore the islands and immerse myself in their unique culture. In this blog post, I'll be sharing my adventures and must-see attractions that made my trip to Hawaii an unforgettable experience. Day 1: Arrival in Honolulu Upon arriving in Honolulu, the capital city of Hawaii, I was greeted by the warm sun and the sound of the waves crashing against the shore. After checking into my hotel, I headed straight to Waikiki Beach, one of the most famous beaches in the world. The sun was setting, and the sky was painted in shades of orange and pink, creating a picturesque scene. I spent the evening strolling along the beach, taking in the \u001b[32msights\u001b[0m \u001b[32mand\u001b[0m \u001b[32msounds\u001b[0m \u001b[32mof\u001b[0m \u001b[32mthe\u001b[0m \u001b[32mbustling\u001b[0m \u001b[32mcity.\u001b[0m \u001b[32mDay\u001b[0m \u001b[32m2:\u001b[0m \u001b[32mHiking\u001b[0m \u001b[32mto\u001b[0m \u001b[32mthe\u001b[0m \u001b[32mTop\u001b[0m \u001b[32mof\u001b[0m \u001b[32mDiamond\u001b[0m \u001b[32mHead\u001b[0m \u001b[32mThe\u001b[0m \u001b[32mnext\u001b[0m \u001b[32mday,\u001b[0m \u001b[32mI\u001b[0m \u001b[32mdecided\u001b[0m \u001b[32mto\u001b[0m \u001b[32mexplore\u001b[0m \u001b[32mthe\u001b[0m \u001b[32misland's\u001b[0m \u001b[32mnatural\u001b[0m \u001b[32mbeauty\u001b[0m \u001b[32mby\u001b[0m \u001b[32mhiking\u001b[0m \u001b[32mto\u001b[0m \u001b[32mthe\u001b[0m \u001b[32mtop\u001b[0m \u001b[32mof\u001b[0m \u001b[32mDiamond\u001b[0m \u001b[32mHead.\u001b[0m \u001b[32mThis\u001b[0m \u001b[32miconic\u001b[0m \u001b[32mvolcanic\u001b[0m \u001b[32mcrater\u001b[0m \u001b[32mis\u001b[0m \u001b[32ma\u001b[0m \u001b[32mmust-see\u001b[0m \u001b[32mattraction\u001b[0m \u001b[32min\u001b[0m \u001b[32mHonolulu,\u001b[0m \u001b[32mand\u001b[0m \u001b[32mthe\u001b[0m \u001b[32mhike\u001b[0m \u001b[32moffers\u001b[0m \u001b[32mbreathtaking\u001b[0m \u001b[32mviews\u001b[0m \u001b[32mof\u001b[0m \u001b[32mthe\u001b[0m \u001b[32mcity\u001b[0m \u001b[32mand\u001b[0m \u001b[32mthe\u001b[0m \u001b[32mocean.\u001b[0m \u001b[32mThe\u001b[0m \u001b[32mtrail\u001b[0m \u001b[32mwas\u001b[0m \u001b[32msteep,\u001b[0m \u001b[32mbut\u001b[0m \u001b[32mthe\u001b[0m \u001b[32mreward\u001b[0m \u001b[32mat\u001b[0m \u001b[32mthe\u001b[0m \u001b[32mtop\u001b[0m \u001b[32mwas\u001b[0m \u001b[32mworth\u001b[0m \u001b[32mit.\u001b[0m \u001b[32mI\u001b[0m \u001b[32mstood\u001b[0m \u001b[32mat\u001b[0m \u001b[32mthe\u001b[0m \u001b[32msummit,\u001b[0m \u001b[32mtaking\u001b[0m \u001b[32min\u001b[0m \u001b[32mthe\u001b[0m \u001b[32mstunning\u001b[0m \u001b[32mpanorama\u001b[0m \u001b[32mand\u001b[0m \u001b[32mfeeling\u001b[0m \u001b[32ma\u001b[0m \u001b[32msense\u001b[0m \u001b[32mof\u001b[0m \u001b[32maccomplishment.\u001b[0m \u001b[32mDay\u001b[0m \u001b[32m3:\u001b[0m \u001b[32mExploring\u001b[0m \u001b[32mthe\u001b[0m \u001b[32mPolynesian\u001b[0m \u001b[32mCultural\u001b[0m \u001b[32mCenter\u001b[0m \u001b[32mOn\u001b[0m \u001b[32mthe\u001b[0m \u001b[32mthird\u001b[0m \u001b[32mday,\u001b[0m \u001b[32mI\u001b[0m \u001b[32mvisited\u001b[0m \u001b[32mthe\u001b[0m \u001b[32mPolynesian\u001b[0m \u001b[32mCultural\u001b[0m \u001b[32mCenter,\u001b[0m \u001b[32ma\u001b[0m \u001b[32munique\u001b[0m \u001b[32mattraction\u001b[0m \u001b[32mthat\u001b[0m \u001b[32mshowcases\u001b[0m \u001b[32mthe\u001b[0m \u001b[32mcultures\u001b[0m \u001b[32mof\u001b[0m \u001b[32mHawaii,\u001b[0m \u001b[32mFiji,\u001b[0m \u001b[32mSamoa,\u001b[0m \u001b[32mand\u001b[0m \u001b[32mother\u001b[0m \u001b[32mPacific\u001b[0m \u001b[32mIsland\u001b[0m \u001b[32mnations.\u001b[0m \u001b[32mI\u001b[0m \u001b[32mspent\u001b[0m \u001b[32mthe\u001b[0m \u001b[32mday\u001b[0m \u001b[32mimmersing\u001b[0m \u001b[32mmyself\u001b[0m \u001b[32min\u001b[0m \u001b[32mthe\u001b[0m \u001b[32mrich\u001b[0m \u001b[32mtraditions\u001b[0m \u001b[32mand\u001b[0m \u001b[32mcustoms\u001b[0m \u001b[32mof\u001b[0m \u001b[32mthese\u001b[0m \u001b[32mcultures,\u001b[0m \u001b[32mfrom\u001b[0m \u001b[32mlearning\u001b[0m \u001b[32mhow\u001b[0m \u001b[32mto\u001b[0m \u001b[32mhula\u001b[0m \u001b[32mdance\u001b[0m \u001b[32mto\u001b[0m \u001b[32mwatching\u001b[0m \u001b[32ma\u001b[0m \u001b[32mfire\u001b[0m \u001b[32mknife\u001b[0m \u001b[32mdance\u001b[0m \u001b[32mperformance.\u001b[0m \u001b[32mThe\u001b[0m \u001b[32mcenter\u001b[0m \u001b[32malso\u001b[0m \u001b[32moffers\u001b[0m \u001b[32minteractive\u001b[0m \u001b[32mexperiences,\u001b[0m \u001b[32msuch\u001b[0m \u001b[32mas\u001b[0m \u001b[32mtrying\u001b[0m \u001b[32mtraditional\u001b[0m \u001b[32mfoods\u001b[0m \u001b[32mand\u001b[0m \u001b[32mwatching\u001b[0m \u001b[32ma\u001b[0m \u001b[32mcanoe\u001b[0m \u001b[32mrace.\u001b[0m \u001b[32mDay\u001b[0m \u001b[32m4:\u001b[0m \u001b[32mSnorkeling\u001b[0m \u001b[32mwith\u001b[0m \u001b[32mTurtles\u001b[0m \u001b[32min\u001b[0m \u001b[32mHanauma\u001b[0m \u001b[32mBay\u001b[0m \u001b[32mThe\u001b[0m \u001b[32mfollowing\u001b[0m \u001b[32mday,\u001b[0m \u001b[32mI\u001b[0m \u001b[32mwent\u001b[0m \u001b[32msnorkeling\u001b[0m \u001b[32min\u001b[0m \u001b[32mHanauma\u001b[0m \u001b[32mBay,\u001b[0m \u001b[32ma\u001b[0m \u001b[32mstunning\u001b[0m \u001b[32mnature\u001b[0m \u001b[32mpreserve\u001b[0m \u001b[32mknown\u001b[0m \u001b[32mfor\u001b[0m \u001b[32mits\u001b[0m \u001b[32mcrystal-clear\u001b[0m \u001b[32mwaters\u001b[0m \u001b[32mand\u001b[0m \u001b[32mabundance\u001b[0m \u001b[32mof\u001b[0m \u001b[32mmarine\u001b[0m \u001b[32mlife.\u001b[0m \u001b[32mAs\u001b[0m \u001b[32mI\u001b[0m \u001b[32mswam\u001b[0m \u001b[32mamong\u001b[0m \u001b[32mthe\u001b[0m \u001b[32mcolorful\u001b[0m \u001b[32mfish\u001b[0m \u001b[32mand\u001b[0m \u001b[32mcoral\u001b[0m \u001b[32mreefs,\u001b[0m \u001b[32mI\u001b[0m \u001b[32mwas\u001b[0m \u001b[32mlucky\u001b[0m \u001b[32menough\u001b[0m \u001b[32mto\u001b[0m \u001b[32mencounter\u001b[0m \u001b[32mseveral\u001b[0m \u001b[32mgreen\u001b[0m \u001b[32msea\u001b[0m \u001b[32mturtles.\u001b[0m \u001b[32mIt\u001b[0m \u001b[32mwas\u001b[0m\n",
      "kangaroo: Title: \"Hawaiian Adventures: Discovering the Islands' Rich Culture and Natural Wonders\" Introduction: Hawaii, the tropical paradise, has always been a dream destination for travelers around the world. With its lush landscapes, pristine beaches, and rich cultural heritage, the Aloha State offers an unforgettable experience. Recently, I embarked on a journey to explore the islands \u001b[34mof\u001b[0m \u001b[34mHawaii\u001b[0m and immerse myself in their unique \u001b[34mculture\u001b[0m \u001b[34mand\u001b[0m \u001b[34mstunning\u001b[0m \u001b[34mnatural\u001b[0m \u001b[34mbeauty.\u001b[0m In this blog post, I'll be sharing my adventures and must-see attractions that made my trip \u001b[34munforgettable.\u001b[0m Day 1: \u001b[34m1.\u001b[0m Arrival in \u001b[34mHonolulu:\u001b[0m \u001b[34mAfter\u001b[0m \u001b[34ma\u001b[0m \u001b[34mlong\u001b[0m \u001b[34mflight,\u001b[0m \u001b[34mI\u001b[0m \u001b[34marrived\u001b[0m in Honolulu, the capital city of \u001b[34mHawaii.\u001b[0m I was greeted by the warm sun and the \u001b[34mlively\u001b[0m \u001b[34menergy\u001b[0m of the \u001b[34mcity.\u001b[0m \u001b[34mMy\u001b[0m \u001b[34mfirst\u001b[0m \u001b[34mstop\u001b[0m \u001b[34mwas\u001b[0m the \u001b[34miconic\u001b[0m \u001b[34mWaikiki\u001b[0m \u001b[34mBeach,\u001b[0m \u001b[34mwhere\u001b[0m \u001b[34mI\u001b[0m \u001b[34msoaked\u001b[0m \u001b[34mup\u001b[0m \u001b[34mthe\u001b[0m \u001b[34msun\u001b[0m \u001b[34mand\u001b[0m \u001b[34menjoyed\u001b[0m \u001b[34mthe\u001b[0m \u001b[34mcrystal-clear\u001b[0m \u001b[34mwaters.\u001b[0m \u001b[34m1.\u001b[0m \u001b[34mHanauma\u001b[0m \u001b[34mBay:\u001b[0m \u001b[34mIn\u001b[0m \u001b[34mthe\u001b[0m \u001b[34mafternoon,\u001b[0m I headed to \u001b[34mHanauma\u001b[0m \u001b[34mBay,\u001b[0m a\n"
     ]
    }
   ],
   "source": [
    "import difflib\n",
    "from termcolor import colored\n",
    "\n",
    "def compare_sentences(sentences):\n",
    "    # Ensure we have at least two sentences to compare\n",
    "    if len(sentences) < 2:\n",
    "        print(\"Please provide at least two sentences to compare.\")\n",
    "        return\n",
    "\n",
    "    # Convert sentences to lists of words\n",
    "    word_lists = [sentence.split() for sentence in sentences]\n",
    "\n",
    "    # Initialize a list to store the colored words for each sentence\n",
    "    colored_sentences = [[] for _ in sentences]\n",
    "\n",
    "    # Compare each sentence with the first sentence\n",
    "    for i in range(1, len(sentences)):\n",
    "        differ = difflib.SequenceMatcher(None, word_lists[0], word_lists[i])\n",
    "        \n",
    "        # Process the differences\n",
    "        for tag, i1, i2, j1, j2 in differ.get_opcodes():\n",
    "            if tag == 'equal':\n",
    "                # Words are the same, add them without color\n",
    "                for k in range(i1, i2):\n",
    "                    colored_sentences[0].append(word_lists[0][k])\n",
    "                    colored_sentences[i].append(word_lists[i][j1 + k - i1])\n",
    "            elif tag == 'replace' or tag == 'delete' or tag == 'insert':\n",
    "                # Words are different, color them\n",
    "                color = ['red', 'green', 'blue', 'yellow', 'magenta', 'cyan'][i % 6]\n",
    "                for k in range(i1, i2):\n",
    "                    colored_sentences[0].append(colored(word_lists[0][k], color))\n",
    "                for k in range(j1, j2):\n",
    "                    colored_sentences[i].append(colored(word_lists[i][k], color))\n",
    "    model_list = [\"baseline\", \"medusa  \", \"kangaroo\"]\n",
    "    # Print the colored sentences\n",
    "    for i, colored_sentence in enumerate(colored_sentences):\n",
    "        print(f\"{model_list[i]}: {' '.join(colored_sentence)}\")\n",
    "\n",
    "# Example usage\n",
    "sentences = [\n",
    "    \"Title: \\\"Hawaiian Adventures: Discovering the Islands' Rich Culture and Natural Wonders\\\"\\n\\nIntroduction:\\n\\nHawaii, the tropical paradise, has always been a dream destination for travelers around the world. With its lush landscapes, pristine beaches, and rich cultural heritage, the Aloha State offers an unforgettable experience. Recently, I embarked on a journey to explore the islands and immerse myself in their unique culture. In this blog post, I'll be sharing my adventures and must-see attractions that made my trip to Hawaii an unforgettable experience.\\n\\nDay 1: Arrival in Honolulu\\n\\nUpon arriving in Honolulu, the capital city of Hawaii, I was greeted by the warm sun and the sound of the waves crashing against the shore. After checking into my hotel, I headed straight to Waikiki Beach, one of the most famous beaches in the world. The sun was setting, and the sky was painted in shades of orange and pink, creating a picturesque scene. I spent the evening strolling along the beach, taking in the\", \n",
    "    # \"A Aloha, my fellow travelers! Recently, I embarked on a journey to the tropical paradise of Hawaii, a dream destination for many. With its lush landscapes, pristine beaches, and rich cultural heritage, the Aloha State offered an unforgettable experience.\\n\\nA As I arrived in Honolulu, the capital city of Hawaii, I was greeted by the warm sun and the sound of the waves crashing against the shore. After checking into my hotel, I headed straight to Waikiki Beach, one of the most famous beaches in the world. The sun was setting, and the sky was painted in shades of orange and pink, creating a picturesque scene.\\n\\nA I spent the evening strolling along the beach, taking in the sights and sounds of the bustling city. The next day, I was eager to explore the island and immerse myself in its unique culture.\\n\\nA A must-see attraction on my itinerary was the Pearl Harbor Visitor Center, where I learned about the history of the attack on Pearl Harbor during World War II. The museum was a sobering reminder\",\n",
    "    \"Title: \\\"Hawaiian Adventures: Discovering the Islands' Rich Culture and Natural Wonders\\\"\\n\\nIntroduction:\\n\\nHawaii, the tropical paradise, has always been a dream destination for travelers around the world. With its lush landscapes, pristine beaches, and rich cultural heritage, the Aloha State offers an unforgettable experience. Recently, I embarked on a journey to explore the islands and immerse myself in their unique culture. In this blog post, I'll be sharing my adventures and must-see attractions that made my trip to Hawaii an unforgettable experience.\\n\\nDay 1: Arrival in Honolulu\\n\\nUpon arriving in Honolulu, the capital city of Hawaii, I was greeted by the warm sun and the sound of the waves crashing against the shore. After checking into my hotel, I headed straight to Waikiki Beach, one of the most famous beaches in the world. The sun was setting, and the sky was painted in shades of orange and pink, creating a picturesque scene. I spent the evening strolling along the beach, taking in the sights and sounds of the bustling city.\\n\\nDay 2: Hiking to the Top of Diamond Head\\n\\nThe next day, I decided to explore the island's natural beauty by hiking to the top of Diamond Head. This iconic volcanic crater is a must-see attraction in Honolulu, and the hike offers breathtaking views of the city and the ocean. The trail was steep, but the reward at the top was worth it. I stood at the summit, taking in the stunning panorama and feeling a sense of accomplishment.\\n\\nDay 3: Exploring the Polynesian Cultural Center\\n\\nOn the third day, I visited the Polynesian Cultural Center, a unique attraction that showcases the cultures of Hawaii, Fiji, Samoa, and other Pacific Island nations. I spent the day immersing myself in the rich traditions and customs of these cultures, from learning how to hula dance to watching a fire knife dance performance. The center also offers interactive experiences, such as trying traditional foods and watching a canoe race.\\n\\nDay 4: Snorkeling with Turtles in Hanauma Bay\\n\\nThe following day, I went snorkeling in Hanauma Bay, a stunning nature preserve known for its crystal-clear waters and abundance of marine life. As I swam among the colorful fish and coral reefs, I was lucky enough to encounter several green sea turtles. It was\", \n",
    "    # \"A Aloha, my recent trip to Hawaii was an adventure like no other. From the moment I arrived in Honolulu, I was greeted by the warm sun and the sound of the waves crashing against the shore. A After checking into my hotel, I headed straight to Waikiki Beach, one of the most famous beaches in the world. A As I strolled along the beach, taking in the sights and sounds of the bustling city, I couldn't help but feel a sense of excitement for the adventures that lay ahead.\\n\\nA The next day, I decided to explore the island's natural beauty by hiking to the top of Diamond Head. A The steep trail was challenging, but the reward at the top was worth it. A From the summit, I was able to take in a breathtaking panorama of the city and the ocean. A I felt a sense of accomplishment and pride in having reached the top of this iconic volcanic crater.\\n\\nA On the third day, I visited the Polynesian Cultural Center, a unique attraction that showcases the cultures of Hawaii, Fiji, Samoa, and other Pacific Island nations. A I spent the day immersing myself in the rich traditions and customs of these cultures, from learning how to hula dance to watching a fire knife dance performance. A The center also offers interactive experiences, such as trying traditional foods and watching a canoe race.\\n\\nA The following day, I went snorkeling in Hanauma Bay, a stunning nature preserve known for its crystal-clear waters and abundance of marine life. A As I swam among the colorful fish and coral reefs, I was lucky enough to encounter several green sea turtles. A It was an unforgettable experience, and I felt grateful for the opportunity to witness these magnificent creatures in their natural habitat.\\n\\nA Overall, my trip to Hawaii was an adventure filled with cultural experiences and breathtaking natural wonders. A I would highly recommend visiting these attractions and immersing yourself in the island's rich history and traditions. A A Mahalo for reading, and until next time, A Aloha!\",\n",
    "    \"Title: \\\"Hawaiian Adventures: Discovering the Islands' Rich Culture and Natural Wonders\\\"\\n\\nIntroduction:\\n\\nHawaii, the tropical paradise, has always been a dream destination for travelers around the world. With its lush landscapes, pristine beaches, and rich cultural heritage, the Aloha State offers an unforgettable experience.\\n\\nRecently, I embarked on a journey to explore the islands of Hawaii and immerse myself in their unique culture and stunning natural beauty. In this blog post, I'll be sharing my adventures and must-see attractions that made my trip unforgettable.\\n\\nDay 1:\\n\\n1. Arrival in Honolulu:\\n\\nAfter a long flight, I arrived in Honolulu, the capital city of Hawaii. I was greeted by the warm sun and the lively energy of the city. My first stop was the iconic Waikiki Beach, where I soaked up the sun and enjoyed the crystal-clear waters.\\n\\n1. Hanauma Bay:\\n\\nIn the afternoon, I headed to Hanauma Bay, a\", \n",
    "    # \"A Aloha, my recent trip to Hawaii was an adventure like no other. From the moment I arrived in Honolulu, I was greeted by the warm sun and the lively energy of the city.\\n\\nA As my first stop, I headed to Waikiki Beach, where I soaked up the sun and enjoyed the crystal-clear waters. It was the perfect way to start my Hawaiian adventure.\\n\\nA Next, I visited Hanauma Bay, a stunning nature preserve known for its clear waters and diverse marine life. I had the opportunity to snorkel and swim with an array of colorful fish, making it a truly unforgettable experience.\\n\\nA After a day of exploring Honolulu, I headed to the\"\n",
    "]\n",
    "\n",
    "compare_sentences(sentences)"
   ]
  },
  {
   "cell_type": "code",
   "execution_count": 2,
   "metadata": {},
   "outputs": [
    {
     "name": "stdout",
     "output_type": "stream",
     "text": [
      "Collecting termcolor\n",
      "  Downloading termcolor-2.4.0-py3-none-any.whl.metadata (6.1 kB)\n",
      "Downloading termcolor-2.4.0-py3-none-any.whl (7.7 kB)\n",
      "Installing collected packages: termcolor\n",
      "Successfully installed termcolor-2.4.0\n"
     ]
    }
   ],
   "source": [
    "!pip install termcolor"
   ]
  },
  {
   "cell_type": "code",
   "execution_count": 13,
   "metadata": {},
   "outputs": [
    {
     "name": "stdout",
     "output_type": "stream",
     "text": [
      "Sentence 1: The \u001b[32mquick\u001b[0m brown fox \u001b[32mjumps\u001b[0m over the \u001b[32mlazy\u001b[0m dog \u001b[34mThe\u001b[0m quick brown fox jumps over the lazy \u001b[34mdog\u001b[0m\n",
      "Sentence 2: The \u001b[32mfast\u001b[0m brown fox \u001b[32mleaps\u001b[0m over the \u001b[32msleepy\u001b[0m dog\n",
      "Sentence 3: \u001b[34mA\u001b[0m quick brown fox jumps over the lazy \u001b[34mcat\u001b[0m\n"
     ]
    }
   ],
   "source": [
    "import difflib\n",
    "from termcolor import colored\n",
    "\n",
    "def compare_sentences(sentences):\n",
    "    # Ensure we have at least two sentences to compare\n",
    "    if len(sentences) < 2:\n",
    "        print(\"Please provide at least two sentences to compare.\")\n",
    "        return\n",
    "\n",
    "    # Convert sentences to lists of words\n",
    "    word_lists = [sentence.split() for sentence in sentences]\n",
    "\n",
    "    # Initialize a list to store the colored words for each sentence\n",
    "    colored_sentences = [[] for _ in sentences]\n",
    "\n",
    "    # Compare each sentence with the first sentence\n",
    "    for i in range(1, len(sentences)):\n",
    "        differ = difflib.SequenceMatcher(None, word_lists[0], word_lists[i])\n",
    "        \n",
    "        # Process the differences\n",
    "        for tag, i1, i2, j1, j2 in differ.get_opcodes():\n",
    "            if tag == 'equal':\n",
    "                # Words are the same, add them without color\n",
    "                for k in range(i1, i2):\n",
    "                    colored_sentences[0].append(word_lists[0][k])\n",
    "                    colored_sentences[i].append(word_lists[i][j1 + k - i1])\n",
    "            elif tag == 'replace' or tag == 'delete' or tag == 'insert':\n",
    "                # Words are different, color them\n",
    "                color = ['red', 'green', 'blue', 'yellow', 'magenta', 'cyan'][i % 6]\n",
    "                for k in range(i1, i2):\n",
    "                    colored_sentences[0].append(colored(word_lists[0][k], color))\n",
    "                for k in range(j1, j2):\n",
    "                    colored_sentences[i].append(colored(word_lists[i][k], color))\n",
    "\n",
    "    # Print the colored sentences\n",
    "    for i, colored_sentence in enumerate(colored_sentences):\n",
    "        print(f\"Sentence {i + 1}: {' '.join(colored_sentence)}\")\n",
    "\n",
    "# Example usage\n",
    "sentences = [\n",
    "    \"The quick brown fox jumps over the lazy dog\",\n",
    "    \"The fast brown fox leaps over the sleepy dog\",\n",
    "    \"A quick brown fox jumps over the lazy cat\"\n",
    "]\n",
    "\n",
    "compare_sentences(sentences)"
   ]
  },
  {
   "cell_type": "code",
   "execution_count": null,
   "metadata": {},
   "outputs": [],
   "source": []
  }
 ],
 "metadata": {
  "kernelspec": {
   "display_name": "fl",
   "language": "python",
   "name": "python3"
  },
  "language_info": {
   "codemirror_mode": {
    "name": "ipython",
    "version": 3
   },
   "file_extension": ".py",
   "mimetype": "text/x-python",
   "name": "python",
   "nbconvert_exporter": "python",
   "pygments_lexer": "ipython3",
   "version": "3.9.19"
  }
 },
 "nbformat": 4,
 "nbformat_minor": 2
}
