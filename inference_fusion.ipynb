{
 "cells": [
  {
   "cell_type": "code",
   "execution_count": 9,
   "metadata": {},
   "outputs": [
    {
     "name": "stdout",
     "output_type": "stream",
     "text": [
      "/home/kz34/Yang_Ouyang_Projects/Kangaroo_ENV/lib/python3.9/site-packages/transformers/utils/generic.py:311: FutureWarning: `torch.utils._pytree._register_pytree_node` is deprecated. Please use `torch.utils._pytree.register_pytree_node` instead.\n",
      "  torch.utils._pytree._register_pytree_node(\n",
      "You are using the default legacy behaviour of the <class 'transformers.models.llama.tokenization_llama.LlamaTokenizer'>. This is expected, and simply means that the `legacy` (previous) behavior will be used so nothing changes for you. If you want to use the new behaviour, set `legacy=False`. This should only be set if you understand what it means, and thouroughly read the reason why this was added as explained in https://github.com/huggingface/transformers/pull/24565\n",
      "Loading checkpoint shards:   0%|                          | 0/2 [00:00<?, ?it/s]/home/kz34/Yang_Ouyang_Projects/Kangaroo_ENV/lib/python3.9/site-packages/transformers/modeling_utils.py:484: FutureWarning: You are using `torch.load` with `weights_only=False` (the current default value), which uses the default pickle module implicitly. It is possible to construct malicious pickle data which will execute arbitrary code during unpickling (See https://github.com/pytorch/pytorch/blob/main/SECURITY.md#untrusted-models for more details). In a future release, the default value for `weights_only` will be flipped to `True`. This limits the functions that could be executed during unpickling. Arbitrary objects will no longer be allowed to be loaded via this mode unless they are explicitly allowlisted by the user via `torch.serialization.add_safe_globals`. We recommend you start setting `weights_only=True` for any use case where you don't have full control of the loaded file. Please open an issue on GitHub for any issues related to this experimental feature.\n",
      "  return torch.load(checkpoint_file, map_location=map_location)\n",
      "Loading checkpoint shards: 100%|██████████████████| 2/2 [00:04<00:00,  2.38s/it]\n",
      "Output to data/Kangaroo/vicuna-7b-v1.3-df-temp-0.9-layer-5/safety/jailbreak.json\n",
      "Check model training state: False\n",
      "CUDA VISIBLE DEVICES: 1\n",
      " 50%|█████████████████▍                 | 696/1400 [9:11:56<10:13:55, 52.32s/it]"
     ]
    }
   ],
   "source": [
    "!CUDA_VISIBLE_DEVICES=1 python -m evaluation.inference_distribution_fusion --task \"safety\" --subtask \"jailbreak\" --exitlayer 2 --adapter-path \"kangaroo-vicuna-7b-v1.3\" --model-path \"vicuna-7b-v1.3\" --threshold 0.6 --temperature 0.9 --steps 6  --bench-name \"Kangaroo\" --dtype \"float16\" --do_sample \"top_p\" --max-new-tokens 1024 --hyper_p 0.5 --fusion-layer 5"
   ]
  },
  {
   "cell_type": "code",
   "execution_count": null,
   "metadata": {},
   "outputs": [],
   "source": []
  }
 ],
 "metadata": {
  "kernelspec": {
   "display_name": "Python 3",
   "language": "python",
   "name": "python3"
  },
  "language_info": {
   "codemirror_mode": {
    "name": "ipython",
    "version": 3
   },
   "file_extension": ".py",
   "mimetype": "text/x-python",
   "name": "python",
   "nbconvert_exporter": "python",
   "pygments_lexer": "ipython3",
   "version": "3.9.19"
  }
 },
 "nbformat": 4,
 "nbformat_minor": 2
}
